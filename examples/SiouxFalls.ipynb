{
 "cells": [
  {
   "cell_type": "code",
   "execution_count": 1,
   "metadata": {},
   "outputs": [],
   "source": [
    "using StaticTrafficAssignment\n",
    "using LightGraphs, MetaGraphs"
   ]
  },
  {
   "cell_type": "code",
   "execution_count": 11,
   "metadata": {},
   "outputs": [],
   "source": [
    "# reading data\n",
    "folderpath = \"data/SiouxFalls/\"\n",
    "network, trips, firstthroughnode, bestsolution = readtntpdata(folderpath);"
   ]
  },
  {
   "cell_type": "code",
   "execution_count": 3,
   "metadata": {},
   "outputs": [],
   "source": [
    "# First run includes compilation time - So, no performance check here\n",
    "nothroughnodes = collect(1:(firstthroughnode-1))\n",
    "costgen = CostFunctionGenerator(network, BPR)\n",
    "uecostfn = costgen(UEProblem)\n",
    "socostfn = costgen(SOProblem)\n",
    "\n",
    "aonsoln = allornothing(network, trips, uecostfn, nothroughnodes=nothroughnodes)\n",
    "\n",
    "uesoln_mosa = frankwolfe(network, trips, uecostfn, nothroughnodes=nothroughnodes)\n",
    "sosoln_mosa = frankwolfe(network, trips, socostfn, nothroughnodes=nothroughnodes);\n",
    "\n",
    "uesoln_fw = frankwolfe(network, trips, uecostfn, nothroughnodes=nothroughnodes)\n",
    "sosoln_fw = frankwolfe(network, trips, socostfn, nothroughnodes=nothroughnodes);\n",
    "\n",
    "uesoln_cfw = conjugatefrankwolfe(network, trips, uecostfn, nothroughnodes=nothroughnodes)\n",
    "sosoln_cfw = conjugatefrankwolfe(network, trips, socostfn, nothroughnodes=nothroughnodes);"
   ]
  },
  {
   "cell_type": "code",
   "execution_count": 4,
   "metadata": {},
   "outputs": [
    {
     "name": "stdout",
     "output_type": "stream",
     "text": [
      "  0.007006 seconds (24.20 k allocations: 1.181 MiB)\n"
     ]
    }
   ],
   "source": [
    "@time network, trips, firstthroughnode, bestsolution = readtntpdata(folderpath);"
   ]
  },
  {
   "cell_type": "code",
   "execution_count": 8,
   "metadata": {},
   "outputs": [
    {
     "name": "stdout",
     "output_type": "stream",
     "text": [
      "  0.004049 seconds (28.89 k allocations: 2.104 MiB)\n"
     ]
    }
   ],
   "source": [
    "@time aonsoln = allornothing(network, trips, uecostfn);"
   ]
  },
  {
   "cell_type": "code",
   "execution_count": 9,
   "metadata": {},
   "outputs": [
    {
     "name": "stdout",
     "output_type": "stream",
     "text": [
      "  3.039126 seconds (36.02 M allocations: 2.450 GiB, 14.65% gc time)\n"
     ]
    }
   ],
   "source": [
    "@time uesoln = frankwolfe(network, trips, uecostfn);"
   ]
  },
  {
   "cell_type": "code",
   "execution_count": 10,
   "metadata": {},
   "outputs": [
    {
     "name": "stdout",
     "output_type": "stream",
     "text": [
      "  8.717743 seconds (95.62 M allocations: 6.088 GiB, 13.28% gc time)\n"
     ]
    }
   ],
   "source": [
    "@time sosoln = frankwolfe(network, trips, socostfn);"
   ]
  },
  {
   "cell_type": "code",
   "execution_count": null,
   "metadata": {},
   "outputs": [],
   "source": []
  }
 ],
 "metadata": {
  "kernelspec": {
   "display_name": "Julia 1.4.1",
   "language": "julia",
   "name": "julia-1.4"
  },
  "language_info": {
   "file_extension": ".jl",
   "mimetype": "application/julia",
   "name": "julia",
   "version": "1.4.1"
  }
 },
 "nbformat": 4,
 "nbformat_minor": 4
}
