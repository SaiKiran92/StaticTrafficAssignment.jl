{
 "cells": [
  {
   "cell_type": "code",
   "execution_count": 1,
   "metadata": {},
   "outputs": [],
   "source": [
    "using StaticTrafficAssignment\n",
    "using LightGraphs, MetaGraphs"
   ]
  },
  {
   "cell_type": "code",
   "execution_count": 2,
   "metadata": {},
   "outputs": [
    {
     "name": "stdout",
     "output_type": "stream",
     "text": [
      "  5.340122 seconds (11.52 M allocations: 559.549 MiB, 3.76% gc time)\n"
     ]
    }
   ],
   "source": [
    "folderpath = \"data\\\\SiouxFalls\\\\\"\n",
    "@time network, trips, flowallowedthrough, bestsolution = readtntpdata(folderpath); # first time includes compilation time"
   ]
  },
  {
   "cell_type": "code",
   "execution_count": 3,
   "metadata": {},
   "outputs": [
    {
     "name": "stdout",
     "output_type": "stream",
     "text": [
      "  0.003447 seconds (23.57 k allocations: 1.021 MiB)\n"
     ]
    }
   ],
   "source": [
    "@time network, trips, flowallowedthrough, bestsolution = readtntpdata(folderpath);"
   ]
  },
  {
   "cell_type": "code",
   "execution_count": 4,
   "metadata": {},
   "outputs": [
    {
     "name": "stdout",
     "output_type": "stream",
     "text": [
      "Edge 1 => 2\n",
      "(toll = 0.0, b = 0.15, capacity = 25900.20064, free_flow_time = 6.0, link_type = 1, speed = 0.0, term_node = 2, power = 4.0, length = 6.0, init_node = 1)\n",
      "Edge 1 => 3\n",
      "(toll = 0.0, b = 0.15, capacity = 23403.47319, free_flow_time = 4.0, link_type = 1, speed = 0.0, term_node = 3, power = 4.0, length = 4.0, init_node = 1)\n",
      "Edge 2 => 1\n",
      "(toll = 0.0, b = 0.15, capacity = 25900.20064, free_flow_time = 6.0, link_type = 1, speed = 0.0, term_node = 1, power = 4.0, length = 6.0, init_node = 2)\n",
      "Edge 2 => 6\n",
      "(toll = 0.0, b = 0.15, capacity = 4958.180928, free_flow_time = 5.0, link_type = 1, speed = 0.0, term_node = 6, power = 4.0, length = 5.0, init_node = 2)\n",
      "Edge 3 => 1\n",
      "(toll = 0.0, b = 0.15, capacity = 23403.47319, free_flow_time = 4.0, link_type = 1, speed = 0.0, term_node = 1, power = 4.0, length = 4.0, init_node = 3)\n",
      "Edge 3 => 4\n",
      "(toll = 0.0, b = 0.15, capacity = 17110.52372, free_flow_time = 4.0, link_type = 1, speed = 0.0, term_node = 4, power = 4.0, length = 4.0, init_node = 3)\n",
      "Edge 3 => 12\n",
      "(toll = 0.0, b = 0.15, capacity = 23403.47319, free_flow_time = 4.0, link_type = 1, speed = 0.0, term_node = 12, power = 4.0, length = 4.0, init_node = 3)\n",
      "Edge 4 => 3\n",
      "(toll = 0.0, b = 0.15, capacity = 17110.52372, free_flow_time = 4.0, link_type = 1, speed = 0.0, term_node = 3, power = 4.0, length = 4.0, init_node = 4)\n",
      "Edge 4 => 5\n",
      "(toll = 0.0, b = 0.15, capacity = 17782.7941, free_flow_time = 2.0, link_type = 1, speed = 0.0, term_node = 5, power = 4.0, length = 2.0, init_node = 4)\n",
      "Edge 4 => 11\n",
      "(toll = 0.0, b = 0.15, capacity = 4908.82673, free_flow_time = 6.0, link_type = 1, speed = 0.0, term_node = 11, power = 4.0, length = 6.0, init_node = 4)\n",
      "Edge 5 => 4\n",
      "(toll = 0.0, b = 0.15, capacity = 17782.7941, free_flow_time = 2.0, link_type = 1, speed = 0.0, term_node = 4, power = 4.0, length = 2.0, init_node = 5)\n",
      "Edge 5 => 6\n",
      "(toll = 0.0, b = 0.15, capacity = 4947.995469, free_flow_time = 4.0, link_type = 1, speed = 0.0, term_node = 6, power = 4.0, length = 4.0, init_node = 5)\n",
      "Edge 5 => 9\n",
      "(toll = 0.0, b = 0.15, capacity = 10000.0, free_flow_time = 5.0, link_type = 1, speed = 0.0, term_node = 9, power = 4.0, length = 5.0, init_node = 5)\n",
      "Edge 6 => 2\n",
      "(toll = 0.0, b = 0.15, capacity = 4958.180928, free_flow_time = 5.0, link_type = 1, speed = 0.0, term_node = 2, power = 4.0, length = 5.0, init_node = 6)\n",
      "Edge 6 => 5\n",
      "(toll = 0.0, b = 0.15, capacity = 4947.995469, free_flow_time = 4.0, link_type = 1, speed = 0.0, term_node = 5, power = 4.0, length = 4.0, init_node = 6)\n",
      "Edge 6 => 8\n",
      "(toll = 0.0, b = 0.15, capacity = 4898.587646, free_flow_time = 2.0, link_type = 1, speed = 0.0, term_node = 8, power = 4.0, length = 2.0, init_node = 6)\n",
      "Edge 7 => 8\n",
      "(toll = 0.0, b = 0.15, capacity = 7841.81131, free_flow_time = 3.0, link_type = 1, speed = 0.0, term_node = 8, power = 4.0, length = 3.0, init_node = 7)\n",
      "Edge 7 => 18\n",
      "(toll = 0.0, b = 0.15, capacity = 23403.47319, free_flow_time = 2.0, link_type = 1, speed = 0.0, term_node = 18, power = 4.0, length = 2.0, init_node = 7)\n",
      "Edge 8 => 6\n",
      "(toll = 0.0, b = 0.15, capacity = 4898.587646, free_flow_time = 2.0, link_type = 1, speed = 0.0, term_node = 6, power = 4.0, length = 2.0, init_node = 8)\n",
      "Edge 8 => 7\n",
      "(toll = 0.0, b = 0.15, capacity = 7841.81131, free_flow_time = 3.0, link_type = 1, speed = 0.0, term_node = 7, power = 4.0, length = 3.0, init_node = 8)\n",
      "Edge 8 => 9\n",
      "(toll = 0.0, b = 0.15, capacity = 5050.193156, free_flow_time = 10.0, link_type = 1, speed = 0.0, term_node = 9, power = 4.0, length = 10.0, init_node = 8)\n",
      "Edge 8 => 16\n",
      "(toll = 0.0, b = 0.15, capacity = 5045.822583, free_flow_time = 5.0, link_type = 1, speed = 0.0, term_node = 16, power = 4.0, length = 5.0, init_node = 8)\n",
      "Edge 9 => 5\n",
      "(toll = 0.0, b = 0.15, capacity = 10000.0, free_flow_time = 5.0, link_type = 1, speed = 0.0, term_node = 5, power = 4.0, length = 5.0, init_node = 9)\n",
      "Edge 9 => 8\n",
      "(toll = 0.0, b = 0.15, capacity = 5050.193156, free_flow_time = 10.0, link_type = 1, speed = 0.0, term_node = 8, power = 4.0, length = 10.0, init_node = 9)\n",
      "Edge 9 => 10\n",
      "(toll = 0.0, b = 0.15, capacity = 13915.78842, free_flow_time = 3.0, link_type = 1, speed = 0.0, term_node = 10, power = 4.0, length = 3.0, init_node = 9)\n",
      "Edge 10 => 9\n",
      "(toll = 0.0, b = 0.15, capacity = 13915.78842, free_flow_time = 3.0, link_type = 1, speed = 0.0, term_node = 9, power = 4.0, length = 3.0, init_node = 10)\n",
      "Edge 10 => 11\n",
      "(toll = 0.0, b = 0.15, capacity = 10000.0, free_flow_time = 5.0, link_type = 1, speed = 0.0, term_node = 11, power = 4.0, length = 5.0, init_node = 10)\n",
      "Edge 10 => 15\n",
      "(toll = 0.0, b = 0.15, capacity = 13512.00155, free_flow_time = 6.0, link_type = 1, speed = 0.0, term_node = 15, power = 4.0, length = 6.0, init_node = 10)\n",
      "Edge 10 => 16\n",
      "(toll = 0.0, b = 0.15, capacity = 4854.917717, free_flow_time = 4.0, link_type = 1, speed = 0.0, term_node = 16, power = 4.0, length = 4.0, init_node = 10)\n",
      "Edge 10 => 17\n",
      "(toll = 0.0, b = 0.15, capacity = 4993.510694, free_flow_time = 8.0, link_type = 1, speed = 0.0, term_node = 17, power = 4.0, length = 8.0, init_node = 10)\n",
      "Edge 11 => 4\n",
      "(toll = 0.0, b = 0.15, capacity = 4908.82673, free_flow_time = 6.0, link_type = 1, speed = 0.0, term_node = 4, power = 4.0, length = 6.0, init_node = 11)\n",
      "Edge 11 => 10\n",
      "(toll = 0.0, b = 0.15, capacity = 10000.0, free_flow_time = 5.0, link_type = 1, speed = 0.0, term_node = 10, power = 4.0, length = 5.0, init_node = 11)\n",
      "Edge 11 => 12\n",
      "(toll = 0.0, b = 0.15, capacity = 4908.82673, free_flow_time = 6.0, link_type = 1, speed = 0.0, term_node = 12, power = 4.0, length = 6.0, init_node = 11)\n",
      "Edge 11 => 14\n",
      "(toll = 0.0, b = 0.15, capacity = 4876.508287, free_flow_time = 4.0, link_type = 1, speed = 0.0, term_node = 14, power = 4.0, length = 4.0, init_node = 11)\n",
      "Edge 12 => 3\n",
      "(toll = 0.0, b = 0.15, capacity = 23403.47319, free_flow_time = 4.0, link_type = 1, speed = 0.0, term_node = 3, power = 4.0, length = 4.0, init_node = 12)\n",
      "Edge 12 => 11\n",
      "(toll = 0.0, b = 0.15, capacity = 4908.82673, free_flow_time = 6.0, link_type = 1, speed = 0.0, term_node = 11, power = 4.0, length = 6.0, init_node = 12)\n",
      "Edge 12 => 13\n",
      "(toll = 0.0, b = 0.15, capacity = 25900.20064, free_flow_time = 3.0, link_type = 1, speed = 0.0, term_node = 13, power = 4.0, length = 3.0, init_node = 12)\n",
      "Edge 13 => 12\n",
      "(toll = 0.0, b = 0.15, capacity = 25900.20064, free_flow_time = 3.0, link_type = 1, speed = 0.0, term_node = 12, power = 4.0, length = 3.0, init_node = 13)\n",
      "Edge 13 => 24\n",
      "(toll = 0.0, b = 0.15, capacity = 5091.256152, free_flow_time = 4.0, link_type = 1, speed = 0.0, term_node = 24, power = 4.0, length = 4.0, init_node = 13)\n",
      "Edge 14 => 11\n",
      "(toll = 0.0, b = 0.15, capacity = 4876.508287, free_flow_time = 4.0, link_type = 1, speed = 0.0, term_node = 11, power = 4.0, length = 4.0, init_node = 14)\n",
      "Edge 14 => 15\n",
      "(toll = 0.0, b = 0.15, capacity = 5127.526119, free_flow_time = 5.0, link_type = 1, speed = 0.0, term_node = 15, power = 4.0, length = 5.0, init_node = 14)\n",
      "Edge 14 => 23\n",
      "(toll = 0.0, b = 0.15, capacity = 4924.790605, free_flow_time = 4.0, link_type = 1, speed = 0.0, term_node = 23, power = 4.0, length = 4.0, init_node = 14)\n",
      "Edge 15 => 10\n",
      "(toll = 0.0, b = 0.15, capacity = 13512.00155, free_flow_time = 6.0, link_type = 1, speed = 0.0, term_node = 10, power = 4.0, length = 6.0, init_node = 15)\n",
      "Edge 15 => 14\n",
      "(toll = 0.0, b = 0.15, capacity = 5127.526119, free_flow_time = 5.0, link_type = 1, speed = 0.0, term_node = 14, power = 4.0, length = 5.0, init_node = 15)\n",
      "Edge 15 => 19\n",
      "(toll = 0.0, b = 0.15, capacity = 14564.75315, free_flow_time = 3.0, link_type = 1, speed = 0.0, term_node = 19, power = 4.0, length = 3.0, init_node = 15)\n",
      "Edge 15 => 22\n",
      "(toll = 0.0, b = 0.15, capacity = 9599.180565, free_flow_time = 3.0, link_type = 1, speed = 0.0, term_node = 22, power = 4.0, length = 3.0, init_node = 15)\n",
      "Edge 16 => 8\n",
      "(toll = 0.0, b = 0.15, capacity = 5045.822583, free_flow_time = 5.0, link_type = 1, speed = 0.0, term_node = 8, power = 4.0, length = 5.0, init_node = 16)\n",
      "Edge 16 => 10\n",
      "(toll = 0.0, b = 0.15, capacity = 4854.917717, free_flow_time = 4.0, link_type = 1, speed = 0.0, term_node = 10, power = 4.0, length = 4.0, init_node = 16)\n",
      "Edge 16 => 17\n",
      "(toll = 0.0, b = 0.15, capacity = 5229.910063, free_flow_time = 2.0, link_type = 1, speed = 0.0, term_node = 17, power = 4.0, length = 2.0, init_node = 16)\n",
      "Edge 16 => 18\n",
      "(toll = 0.0, b = 0.15, capacity = 19679.89671, free_flow_time = 3.0, link_type = 1, speed = 0.0, term_node = 18, power = 4.0, length = 3.0, init_node = 16)\n",
      "Edge 17 => 10\n",
      "(toll = 0.0, b = 0.15, capacity = 4993.510694, free_flow_time = 8.0, link_type = 1, speed = 0.0, term_node = 10, power = 4.0, length = 8.0, init_node = 17)\n",
      "Edge 17 => 16\n",
      "(toll = 0.0, b = 0.15, capacity = 5229.910063, free_flow_time = 2.0, link_type = 1, speed = 0.0, term_node = 16, power = 4.0, length = 2.0, init_node = 17)\n",
      "Edge 17 => 19\n",
      "(toll = 0.0, b = 0.15, capacity = 4823.950831, free_flow_time = 2.0, link_type = 1, speed = 0.0, term_node = 19, power = 4.0, length = 2.0, init_node = 17)\n",
      "Edge 18 => 7\n",
      "(toll = 0.0, b = 0.15, capacity = 23403.47319, free_flow_time = 2.0, link_type = 1, speed = 0.0, term_node = 7, power = 4.0, length = 2.0, init_node = 18)\n",
      "Edge 18 => 16\n",
      "(toll = 0.0, b = 0.15, capacity = 19679.89671, free_flow_time = 3.0, link_type = 1, speed = 0.0, term_node = 16, power = 4.0, length = 3.0, init_node = 18)\n",
      "Edge 18 => 20\n",
      "(toll = 0.0, b = 0.15, capacity = 23403.47319, free_flow_time = 4.0, link_type = 1, speed = 0.0, term_node = 20, power = 4.0, length = 4.0, init_node = 18)\n",
      "Edge 19 => 15\n",
      "(toll = 0.0, b = 0.15, capacity = 14564.75315, free_flow_time = 3.0, link_type = 1, speed = 0.0, term_node = 15, power = 4.0, length = 3.0, init_node = 19)\n",
      "Edge 19 => 17\n",
      "(toll = 0.0, b = 0.15, capacity = 4823.950831, free_flow_time = 2.0, link_type = 1, speed = 0.0, term_node = 17, power = 4.0, length = 2.0, init_node = 19)\n",
      "Edge 19 => 20\n",
      "(toll = 0.0, b = 0.15, capacity = 5002.607563, free_flow_time = 4.0, link_type = 1, speed = 0.0, term_node = 20, power = 4.0, length = 4.0, init_node = 19)\n",
      "Edge 20 => 18\n",
      "(toll = 0.0, b = 0.15, capacity = 23403.47319, free_flow_time = 4.0, link_type = 1, speed = 0.0, term_node = 18, power = 4.0, length = 4.0, init_node = 20)\n",
      "Edge 20 => 19\n",
      "(toll = 0.0, b = 0.15, capacity = 5002.607563, free_flow_time = 4.0, link_type = 1, speed = 0.0, term_node = 19, power = 4.0, length = 4.0, init_node = 20)\n",
      "Edge 20 => 21\n",
      "(toll = 0.0, b = 0.15, capacity = 5059.91234, free_flow_time = 6.0, link_type = 1, speed = 0.0, term_node = 21, power = 4.0, length = 6.0, init_node = 20)\n",
      "Edge 20 => 22\n",
      "(toll = 0.0, b = 0.15, capacity = 5075.697193, free_flow_time = 5.0, link_type = 1, speed = 0.0, term_node = 22, power = 4.0, length = 5.0, init_node = 20)\n",
      "Edge 21 => 20\n",
      "(toll = 0.0, b = 0.15, capacity = 5059.91234, free_flow_time = 6.0, link_type = 1, speed = 0.0, term_node = 20, power = 4.0, length = 6.0, init_node = 21)\n",
      "Edge 21 => 22\n",
      "(toll = 0.0, b = 0.15, capacity = 5229.910063, free_flow_time = 2.0, link_type = 1, speed = 0.0, term_node = 22, power = 4.0, length = 2.0, init_node = 21)\n",
      "Edge 21 => 24\n",
      "(toll = 0.0, b = 0.15, capacity = 4885.357564, free_flow_time = 3.0, link_type = 1, speed = 0.0, term_node = 24, power = 4.0, length = 3.0, init_node = 21)\n",
      "Edge 22 => 15\n",
      "(toll = 0.0, b = 0.15, capacity = 9599.180565, free_flow_time = 3.0, link_type = 1, speed = 0.0, term_node = 15, power = 4.0, length = 3.0, init_node = 22)\n",
      "Edge 22 => 20\n",
      "(toll = 0.0, b = 0.15, capacity = 5075.697193, free_flow_time = 5.0, link_type = 1, speed = 0.0, term_node = 20, power = 4.0, length = 5.0, init_node = 22)\n",
      "Edge 22 => 21\n",
      "(toll = 0.0, b = 0.15, capacity = 5229.910063, free_flow_time = 2.0, link_type = 1, speed = 0.0, term_node = 21, power = 4.0, length = 2.0, init_node = 22)\n",
      "Edge 22 => 23\n",
      "(toll = 0.0, b = 0.15, capacity = 5000.0, free_flow_time = 4.0, link_type = 1, speed = 0.0, term_node = 23, power = 4.0, length = 4.0, init_node = 22)\n",
      "Edge 23 => 14\n",
      "(toll = 0.0, b = 0.15, capacity = 4924.790605, free_flow_time = 4.0, link_type = 1, speed = 0.0, term_node = 14, power = 4.0, length = 4.0, init_node = 23)\n",
      "Edge 23 => 22\n",
      "(toll = 0.0, b = 0.15, capacity = 5000.0, free_flow_time = 4.0, link_type = 1, speed = 0.0, term_node = 22, power = 4.0, length = 4.0, init_node = 23)\n",
      "Edge 23 => 24\n",
      "(toll = 0.0, b = 0.15, capacity = 5078.508436, free_flow_time = 2.0, link_type = 1, speed = 0.0, term_node = 24, power = 4.0, length = 2.0, init_node = 23)\n",
      "Edge 24 => 13\n",
      "(toll = 0.0, b = 0.15, capacity = 5091.256152, free_flow_time = 4.0, link_type = 1, speed = 0.0, term_node = 13, power = 4.0, length = 4.0, init_node = 24)\n",
      "Edge 24 => 21\n",
      "(toll = 0.0, b = 0.15, capacity = 4885.357564, free_flow_time = 3.0, link_type = 1, speed = 0.0, term_node = 21, power = 4.0, length = 3.0, init_node = 24)\n",
      "Edge 24 => 23\n",
      "(toll = 0.0, b = 0.15, capacity = 5078.508436, free_flow_time = 2.0, link_type = 1, speed = 0.0, term_node = 23, power = 4.0, length = 2.0, init_node = 24)\n"
     ]
    }
   ],
   "source": [
    "for e in edges(network)\n",
    "    println(e)\n",
    "    println((; props(network, e)...))\n",
    "end"
   ]
  },
  {
   "cell_type": "code",
   "execution_count": 5,
   "metadata": {},
   "outputs": [
    {
     "data": {
      "text/plain": [
       "24×24 Array{Float64,2}:\n",
       "    0.0  100.0  100.0   500.0   200.0  …   100.0   400.0   300.0   100.0\n",
       "  100.0    0.0  100.0   200.0   100.0        0.0   100.0     0.0     0.0\n",
       "  100.0  100.0    0.0   200.0   100.0        0.0   100.0   100.0     0.0\n",
       "  500.0  200.0  200.0     0.0   500.0      200.0   400.0   500.0   200.0\n",
       "  200.0  100.0  100.0   500.0     0.0      100.0   200.0   100.0     0.0\n",
       "  300.0  400.0  300.0   400.0   200.0  …   100.0   200.0   100.0   100.0\n",
       "  500.0  200.0  100.0   400.0   200.0      200.0   500.0   200.0   100.0\n",
       "  800.0  400.0  200.0   700.0   500.0      400.0   500.0   300.0   200.0\n",
       "  500.0  200.0  100.0   700.0   800.0      300.0   700.0   500.0   200.0\n",
       " 1300.0  600.0  300.0  1200.0  1000.0     1200.0  2600.0  1800.0   800.0\n",
       "  500.0  200.0  300.0  1500.0   500.0  …   400.0  1100.0  1300.0   600.0\n",
       "  200.0  100.0  200.0   600.0   200.0      300.0   700.0   700.0   500.0\n",
       "  500.0  300.0  100.0   600.0   200.0      600.0  1300.0   800.0   800.0\n",
       "  300.0  100.0  100.0   500.0   100.0      400.0  1200.0  1100.0   400.0\n",
       "  500.0  100.0  100.0   500.0   200.0      800.0  2600.0  1000.0   400.0\n",
       "  500.0  400.0  200.0   800.0   500.0  …   600.0  1200.0   500.0   300.0\n",
       "  400.0  200.0  100.0   500.0   200.0      600.0  1700.0   600.0   300.0\n",
       "  100.0    0.0    0.0   100.0     0.0      100.0   300.0   100.0     0.0\n",
       "  300.0  100.0    0.0   200.0   100.0      400.0  1200.0   300.0   100.0\n",
       "  300.0  100.0    0.0   300.0   100.0     1200.0  2400.0   700.0   400.0\n",
       "  100.0    0.0    0.0   200.0   100.0  …     0.0  1800.0   700.0   500.0\n",
       "  400.0  100.0  100.0   400.0   200.0     1800.0     0.0  2100.0  1100.0\n",
       "  300.0    0.0  100.0   500.0   100.0      700.0  2100.0     0.0   700.0\n",
       "  100.0    0.0    0.0   200.0     0.0      500.0  1100.0   700.0     0.0"
      ]
     },
     "execution_count": 5,
     "metadata": {},
     "output_type": "execute_result"
    }
   ],
   "source": [
    "trips"
   ]
  },
  {
   "cell_type": "code",
   "execution_count": 6,
   "metadata": {},
   "outputs": [
    {
     "data": {
      "text/html": [
       "<table class=\"data-frame\"><thead><tr><th></th><th>From </th><th>To </th><th>Volume </th><th>Cost </th></tr><tr><th></th><th>Int64</th><th>Int64</th><th>Float64</th><th>Float64</th></tr></thead><tbody><p>76 rows × 4 columns</p><tr><th>1</th><td>1</td><td>2</td><td>4494.66</td><td>6.00082</td></tr><tr><th>2</th><td>1</td><td>3</td><td>8119.08</td><td>4.00869</td></tr><tr><th>3</th><td>2</td><td>1</td><td>4519.08</td><td>6.00083</td></tr><tr><th>4</th><td>2</td><td>6</td><td>5967.34</td><td>6.5736</td></tr><tr><th>5</th><td>3</td><td>1</td><td>8094.66</td><td>4.00859</td></tr><tr><th>6</th><td>3</td><td>4</td><td>14006.4</td><td>4.2694</td></tr><tr><th>7</th><td>3</td><td>12</td><td>10022.3</td><td>4.02018</td></tr><tr><th>8</th><td>4</td><td>3</td><td>14030.6</td><td>4.27127</td></tr><tr><th>9</th><td>4</td><td>5</td><td>18006.4</td><td>2.31537</td></tr><tr><th>10</th><td>4</td><td>11</td><td>5200.0</td><td>7.1333</td></tr><tr><th>11</th><td>5</td><td>4</td><td>18030.6</td><td>2.31707</td></tr><tr><th>12</th><td>5</td><td>6</td><td>8798.27</td><td>9.99823</td></tr><tr><th>13</th><td>5</td><td>9</td><td>15780.8</td><td>9.65131</td></tr><tr><th>14</th><td>6</td><td>2</td><td>5991.76</td><td>6.59952</td></tr><tr><th>15</th><td>6</td><td>5</td><td>8806.5</td><td>10.0207</td></tr><tr><th>16</th><td>6</td><td>8</td><td>12492.9</td><td>14.691</td></tr><tr><th>17</th><td>7</td><td>8</td><td>12101.5</td><td>5.55216</td></tr><tr><th>18</th><td>7</td><td>18</td><td>15794.0</td><td>2.06223</td></tr><tr><th>19</th><td>8</td><td>6</td><td>12525.6</td><td>14.8242</td></tr><tr><th>20</th><td>8</td><td>7</td><td>12040.9</td><td>5.50141</td></tr><tr><th>21</th><td>8</td><td>9</td><td>6882.66</td><td>15.1747</td></tr><tr><th>22</th><td>8</td><td>16</td><td>8388.71</td><td>10.7295</td></tr><tr><th>23</th><td>9</td><td>5</td><td>15796.7</td><td>9.67015</td></tr><tr><th>24</th><td>9</td><td>8</td><td>6836.71</td><td>15.0379</td></tr><tr><th>25</th><td>9</td><td>10</td><td>21744.1</td><td>5.68253</td></tr><tr><th>26</th><td>10</td><td>9</td><td>21814.1</td><td>5.71724</td></tr><tr><th>27</th><td>10</td><td>11</td><td>17726.6</td><td>12.4057</td></tr><tr><th>28</th><td>10</td><td>15</td><td>23125.8</td><td>13.7224</td></tr><tr><th>29</th><td>10</td><td>16</td><td>11047.1</td><td>20.0848</td></tr><tr><th>30</th><td>10</td><td>17</td><td>8100.0</td><td>16.308</td></tr><tr><th>&vellip;</th><td>&vellip;</td><td>&vellip;</td><td>&vellip;</td><td>&vellip;</td></tr></tbody></table>"
      ],
      "text/latex": [
       "\\begin{tabular}{r|cccc}\n",
       "\t& From  & To  & Volume  & Cost \\\\\n",
       "\t\\hline\n",
       "\t& Int64 & Int64 & Float64 & Float64\\\\\n",
       "\t\\hline\n",
       "\t1 & 1 & 2 & 4494.66 & 6.00082 \\\\\n",
       "\t2 & 1 & 3 & 8119.08 & 4.00869 \\\\\n",
       "\t3 & 2 & 1 & 4519.08 & 6.00083 \\\\\n",
       "\t4 & 2 & 6 & 5967.34 & 6.5736 \\\\\n",
       "\t5 & 3 & 1 & 8094.66 & 4.00859 \\\\\n",
       "\t6 & 3 & 4 & 14006.4 & 4.2694 \\\\\n",
       "\t7 & 3 & 12 & 10022.3 & 4.02018 \\\\\n",
       "\t8 & 4 & 3 & 14030.6 & 4.27127 \\\\\n",
       "\t9 & 4 & 5 & 18006.4 & 2.31537 \\\\\n",
       "\t10 & 4 & 11 & 5200.0 & 7.1333 \\\\\n",
       "\t11 & 5 & 4 & 18030.6 & 2.31707 \\\\\n",
       "\t12 & 5 & 6 & 8798.27 & 9.99823 \\\\\n",
       "\t13 & 5 & 9 & 15780.8 & 9.65131 \\\\\n",
       "\t14 & 6 & 2 & 5991.76 & 6.59952 \\\\\n",
       "\t15 & 6 & 5 & 8806.5 & 10.0207 \\\\\n",
       "\t16 & 6 & 8 & 12492.9 & 14.691 \\\\\n",
       "\t17 & 7 & 8 & 12101.5 & 5.55216 \\\\\n",
       "\t18 & 7 & 18 & 15794.0 & 2.06223 \\\\\n",
       "\t19 & 8 & 6 & 12525.6 & 14.8242 \\\\\n",
       "\t20 & 8 & 7 & 12040.9 & 5.50141 \\\\\n",
       "\t21 & 8 & 9 & 6882.66 & 15.1747 \\\\\n",
       "\t22 & 8 & 16 & 8388.71 & 10.7295 \\\\\n",
       "\t23 & 9 & 5 & 15796.7 & 9.67015 \\\\\n",
       "\t24 & 9 & 8 & 6836.71 & 15.0379 \\\\\n",
       "\t25 & 9 & 10 & 21744.1 & 5.68253 \\\\\n",
       "\t26 & 10 & 9 & 21814.1 & 5.71724 \\\\\n",
       "\t27 & 10 & 11 & 17726.6 & 12.4057 \\\\\n",
       "\t28 & 10 & 15 & 23125.8 & 13.7224 \\\\\n",
       "\t29 & 10 & 16 & 11047.1 & 20.0848 \\\\\n",
       "\t30 & 10 & 17 & 8100.0 & 16.308 \\\\\n",
       "\t$\\dots$ & $\\dots$ & $\\dots$ & $\\dots$ & $\\dots$ \\\\\n",
       "\\end{tabular}\n"
      ],
      "text/plain": [
       "76×4 DataFrames.DataFrame\n",
       "│ Row │ From  │ To    │ Volume  │ Cost    │\n",
       "│     │ \u001b[90mInt64\u001b[39m │ \u001b[90mInt64\u001b[39m │ \u001b[90mFloat64\u001b[39m │ \u001b[90mFloat64\u001b[39m │\n",
       "├─────┼───────┼───────┼─────────┼─────────┤\n",
       "│ 1   │ 1     │ 2     │ 4494.66 │ 6.00082 │\n",
       "│ 2   │ 1     │ 3     │ 8119.08 │ 4.00869 │\n",
       "│ 3   │ 2     │ 1     │ 4519.08 │ 6.00083 │\n",
       "│ 4   │ 2     │ 6     │ 5967.34 │ 6.5736  │\n",
       "│ 5   │ 3     │ 1     │ 8094.66 │ 4.00859 │\n",
       "│ 6   │ 3     │ 4     │ 14006.4 │ 4.2694  │\n",
       "│ 7   │ 3     │ 12    │ 10022.3 │ 4.02018 │\n",
       "│ 8   │ 4     │ 3     │ 14030.6 │ 4.27127 │\n",
       "│ 9   │ 4     │ 5     │ 18006.4 │ 2.31537 │\n",
       "│ 10  │ 4     │ 11    │ 5200.0  │ 7.1333  │\n",
       "⋮\n",
       "│ 66  │ 21    │ 24    │ 10309.4 │ 11.9241 │\n",
       "│ 67  │ 22    │ 15    │ 18386.5 │ 9.05717 │\n",
       "│ 68  │ 22    │ 20    │ 7000.0  │ 7.71313 │\n",
       "│ 69  │ 22    │ 21    │ 8607.39 │ 4.20105 │\n",
       "│ 70  │ 22    │ 23    │ 9661.82 │ 12.3658 │\n",
       "│ 71  │ 23    │ 14    │ 8394.9  │ 9.06597 │\n",
       "│ 72  │ 23    │ 22    │ 9626.21 │ 12.2431 │\n",
       "│ 73  │ 23    │ 24    │ 7902.98 │ 3.7593  │\n",
       "│ 74  │ 24    │ 13    │ 11112.4 │ 17.617  │\n",
       "│ 75  │ 24    │ 21    │ 10259.5 │ 11.7526 │\n",
       "│ 76  │ 24    │ 23    │ 7861.83 │ 3.72295 │"
      ]
     },
     "execution_count": 6,
     "metadata": {},
     "output_type": "execute_result"
    }
   ],
   "source": [
    "bestsolution"
   ]
  },
  {
   "cell_type": "markdown",
   "metadata": {},
   "source": [
    "Will discuss 'flowallowedthrough' later."
   ]
  },
  {
   "cell_type": "code",
   "execution_count": null,
   "metadata": {},
   "outputs": [],
   "source": []
  }
 ],
 "metadata": {
  "kernelspec": {
   "display_name": "Julia 1.4.1",
   "language": "julia",
   "name": "julia-1.4"
  },
  "language_info": {
   "file_extension": ".jl",
   "mimetype": "application/julia",
   "name": "julia",
   "version": "1.4.1"
  }
 },
 "nbformat": 4,
 "nbformat_minor": 4
}
