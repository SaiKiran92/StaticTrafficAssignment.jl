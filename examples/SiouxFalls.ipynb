{
 "cells": [
  {
   "cell_type": "code",
   "execution_count": 1,
   "metadata": {},
   "outputs": [],
   "source": [
    "using StaticTrafficAssignment\n",
    "using LightGraphs, MetaGraphs"
   ]
  },
  {
   "cell_type": "code",
   "execution_count": 2,
   "metadata": {},
   "outputs": [],
   "source": [
    "# First run includes compilation time - So, no performance check here\n",
    "\n",
    "folderpath = \"data\\\\SiouxFalls\\\\\"\n",
    "network, trips, firstthroughnode, bestsolution = readtntpdata(folderpath)\n",
    "\n",
    "costgen = CostFunctionGenerator(network, BPR)\n",
    "uecostfn = costgen(UEProblem)\n",
    "socostfn = costgen(SOProblem)\n",
    "\n",
    "aonsoln = allornothing(network, trips, uecostfn)\n",
    "uesoln = frankwolfe(network, trips, uecostfn)\n",
    "sosoln = frankwolfe(network, trips, socostfn);"
   ]
  },
  {
   "cell_type": "code",
   "execution_count": 3,
   "metadata": {},
   "outputs": [
    {
     "name": "stdout",
     "output_type": "stream",
     "text": [
      "  0.007523 seconds (23.57 k allocations: 1.021 MiB)\n"
     ]
    }
   ],
   "source": [
    "@time network, trips, firstthroughnode, bestsolution = readtntpdata(folderpath);"
   ]
  },
  {
   "cell_type": "code",
   "execution_count": 4,
   "metadata": {},
   "outputs": [
    {
     "name": "stdout",
     "output_type": "stream",
     "text": [
      "  0.000859 seconds (8.75 k allocations: 337.344 KiB)\n"
     ]
    }
   ],
   "source": [
    "@time aonsoln = allornothing(network, trips, uecostfn);"
   ]
  },
  {
   "cell_type": "code",
   "execution_count": 5,
   "metadata": {},
   "outputs": [
    {
     "name": "stdout",
     "output_type": "stream",
     "text": [
      "  1.222300 seconds (14.31 M allocations: 566.932 MiB, 9.78% gc time)\n"
     ]
    }
   ],
   "source": [
    "@time uesoln = frankwolfe(network, trips, uecostfn);"
   ]
  },
  {
   "cell_type": "code",
   "execution_count": 6,
   "metadata": {},
   "outputs": [
    {
     "name": "stdout",
     "output_type": "stream",
     "text": [
      "  3.808365 seconds (45.03 M allocations: 1.661 GiB, 9.58% gc time)\n"
     ]
    }
   ],
   "source": [
    "@time sosoln = frankwolfe(network, trips, socostfn);"
   ]
  },
  {
   "cell_type": "code",
   "execution_count": null,
   "metadata": {},
   "outputs": [],
   "source": []
  }
 ],
 "metadata": {
  "kernelspec": {
   "display_name": "Julia 1.4.1",
   "language": "julia",
   "name": "julia-1.4"
  },
  "language_info": {
   "file_extension": ".jl",
   "mimetype": "application/julia",
   "name": "julia",
   "version": "1.4.1"
  }
 },
 "nbformat": 4,
 "nbformat_minor": 4
}
