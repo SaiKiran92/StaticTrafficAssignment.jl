{
 "cells": [
  {
   "cell_type": "code",
   "execution_count": 1,
   "metadata": {},
   "outputs": [],
   "source": [
    "using StaticTrafficAssignment\n",
    "using DataFrames"
   ]
  },
  {
   "cell_type": "code",
   "execution_count": 2,
   "metadata": {},
   "outputs": [],
   "source": [
    "# reading and preparing data\n",
    "nnodes, ftnode, linkdf, trips, geometry, bestsolution = readtntpdata(\"data/SiouxFalls/\")\n",
    "\n",
    "nzones = size(trips)[1]\n",
    "zonedf = DataFrame(:id => 1:nzones, :issource => ones(Bool, nzones), :issink => ones(Bool, nzones), :thruallowed => (1:nzones) .>= ftnode);"
   ]
  },
  {
   "cell_type": "code",
   "execution_count": 3,
   "metadata": {},
   "outputs": [],
   "source": [
    "network = SimpleNetwork(nnodes, linkdf, zonedf; idkey=:id, issrckey=:issource, issnkkey=:issink, thrukey=:thruallowed,  upnkey=:init_node, dwnkey=:term_node)\n",
    "uecostfn = CostFunctionUE(network, BPR)\n",
    "socostfn = CostFunctionSO(network, BPR);"
   ]
  },
  {
   "cell_type": "code",
   "execution_count": 4,
   "metadata": {},
   "outputs": [
    {
     "name": "stdout",
     "output_type": "stream",
     "text": [
      "  1.584838 seconds (4.17 M allocations: 210.982 MiB, 5.46% gc time)\n",
      " 12.052013 seconds (90.57 M allocations: 3.060 GiB, 5.27% gc time)\n",
      " 21.273318 seconds (164.50 M allocations: 5.427 GiB, 5.13% gc time)\n",
      "  1.827030 seconds (14.92 M allocations: 564.276 MiB, 6.02% gc time)\n",
      "  5.189472 seconds (45.84 M allocations: 1.600 GiB, 5.77% gc time)\n",
      " 12.041280 seconds (95.26 M allocations: 3.535 GiB, 5.90% gc time)\n",
      " 15.214190 seconds (131.10 M allocations: 4.613 GiB, 5.75% gc time)\n"
     ]
    }
   ],
   "source": [
    "# first run includes compilation time in Julia\n",
    "@time aonsoln = allornothing(network, trips, uecostfn);\n",
    "\n",
    "@time uesoln_msa = msa(network, trips, uecostfn);\n",
    "@time sosoln_msa = msa(network, trips, socostfn);\n",
    "\n",
    "@time uesoln_fw = frankwolfe(network, trips, uecostfn);\n",
    "@time sosoln_fw = frankwolfe(network, trips, socostfn);\n",
    "\n",
    "@time uesoln_cfw = conjugatefrankwolfe(network, trips, uecostfn);\n",
    "@time sosoln_cfw = conjugatefrankwolfe(network, trips, socostfn);"
   ]
  },
  {
   "cell_type": "code",
   "execution_count": 5,
   "metadata": {},
   "outputs": [
    {
     "name": "stdout",
     "output_type": "stream",
     "text": [
      "  0.002209 seconds (9.03 k allocations: 319.828 KiB)\n",
      " 12.078280 seconds (89.69 M allocations: 3.016 GiB, 5.16% gc time)\n",
      " 21.445073 seconds (164.32 M allocations: 5.419 GiB, 5.16% gc time)\n",
      "  1.700225 seconds (14.79 M allocations: 556.857 MiB, 6.34% gc time)\n",
      "  4.853152 seconds (45.81 M allocations: 1.598 GiB, 5.86% gc time)\n",
      " 11.461828 seconds (94.22 M allocations: 3.481 GiB, 5.93% gc time)\n",
      " 14.122528 seconds (130.84 M allocations: 4.600 GiB, 5.82% gc time)\n"
     ]
    }
   ],
   "source": [
    "@time aonsoln = allornothing(network, trips, uecostfn);\n",
    "\n",
    "@time uesoln_msa = msa(network, trips, uecostfn);\n",
    "@time sosoln_msa = msa(network, trips, socostfn);\n",
    "\n",
    "@time uesoln_fw = frankwolfe(network, trips, uecostfn);\n",
    "@time sosoln_fw = frankwolfe(network, trips, socostfn);\n",
    "\n",
    "@time uesoln_cfw = conjugatefrankwolfe(network, trips, uecostfn);\n",
    "@time sosoln_cfw = conjugatefrankwolfe(network, trips, socostfn);"
   ]
  },
  {
   "cell_type": "code",
   "execution_count": null,
   "metadata": {},
   "outputs": [],
   "source": []
  }
 ],
 "metadata": {
  "kernelspec": {
   "display_name": "Julia 1.4.1",
   "language": "julia",
   "name": "julia-1.4"
  },
  "language_info": {
   "file_extension": ".jl",
   "mimetype": "application/julia",
   "name": "julia",
   "version": "1.4.1"
  }
 },
 "nbformat": 4,
 "nbformat_minor": 4
}
